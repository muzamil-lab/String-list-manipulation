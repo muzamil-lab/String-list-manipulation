{
 "cells": [
  {
   "cell_type": "code",
   "execution_count": 1,
   "id": "cfc478aa",
   "metadata": {},
   "outputs": [],
   "source": [
    "a = \"muzamil\""
   ]
  },
  {
   "cell_type": "code",
   "execution_count": 2,
   "id": "7a540837",
   "metadata": {},
   "outputs": [
    {
     "data": {
      "text/plain": [
       "'muzamil'"
      ]
     },
     "execution_count": 2,
     "metadata": {},
     "output_type": "execute_result"
    }
   ],
   "source": [
    "a"
   ]
  },
  {
   "cell_type": "code",
   "execution_count": 3,
   "id": "3a8f58f9",
   "metadata": {},
   "outputs": [],
   "source": [
    "b = 'khan'"
   ]
  },
  {
   "cell_type": "code",
   "execution_count": 4,
   "id": "322bf0a2",
   "metadata": {},
   "outputs": [
    {
     "data": {
      "text/plain": [
       "'khan'"
      ]
     },
     "execution_count": 4,
     "metadata": {},
     "output_type": "execute_result"
    }
   ],
   "source": [
    "b"
   ]
  },
  {
   "cell_type": "code",
   "execution_count": 7,
   "id": "2a812180",
   "metadata": {},
   "outputs": [],
   "source": [
    "c = \"this is my program for string and list maniplation that's my is join my class \""
   ]
  },
  {
   "cell_type": "code",
   "execution_count": 8,
   "id": "e8b56fd1",
   "metadata": {},
   "outputs": [
    {
     "data": {
      "text/plain": [
       "\"this is my program for string and list maniplation that's my is join my class \""
      ]
     },
     "execution_count": 8,
     "metadata": {},
     "output_type": "execute_result"
    }
   ],
   "source": [
    "c"
   ]
  },
  {
   "cell_type": "code",
   "execution_count": 9,
   "id": "ba1bb6a6",
   "metadata": {},
   "outputs": [],
   "source": [
    "s = \"my name is muzamil khan\""
   ]
  },
  {
   "cell_type": "code",
   "execution_count": 10,
   "id": "52b55b5e",
   "metadata": {},
   "outputs": [
    {
     "data": {
      "text/plain": [
       "'my name is muzamil khan'"
      ]
     },
     "execution_count": 10,
     "metadata": {},
     "output_type": "execute_result"
    }
   ],
   "source": [
    "s"
   ]
  },
  {
   "cell_type": "code",
   "execution_count": 11,
   "id": "000de264",
   "metadata": {},
   "outputs": [
    {
     "data": {
      "text/plain": [
       "' '"
      ]
     },
     "execution_count": 11,
     "metadata": {},
     "output_type": "execute_result"
    }
   ],
   "source": [
    "s[10]"
   ]
  },
  {
   "cell_type": "code",
   "execution_count": 12,
   "id": "ed63cff7",
   "metadata": {},
   "outputs": [
    {
     "data": {
      "text/plain": [
       "23"
      ]
     },
     "execution_count": 12,
     "metadata": {},
     "output_type": "execute_result"
    }
   ],
   "source": [
    "len(s)"
   ]
  },
  {
   "cell_type": "code",
   "execution_count": 13,
   "id": "e891f6e1",
   "metadata": {},
   "outputs": [
    {
     "data": {
      "text/plain": [
       "'m'"
      ]
     },
     "execution_count": 13,
     "metadata": {},
     "output_type": "execute_result"
    }
   ],
   "source": [
    "s[11]"
   ]
  },
  {
   "cell_type": "code",
   "execution_count": 14,
   "id": "7ff6bad1",
   "metadata": {},
   "outputs": [
    {
     "data": {
      "text/plain": [
       "''"
      ]
     },
     "execution_count": 14,
     "metadata": {},
     "output_type": "execute_result"
    }
   ],
   "source": [
    "s[9:8:1]"
   ]
  },
  {
   "cell_type": "code",
   "execution_count": 16,
   "id": "1ab0e7df",
   "metadata": {},
   "outputs": [
    {
     "data": {
      "text/plain": [
       "'y name'"
      ]
     },
     "execution_count": 16,
     "metadata": {},
     "output_type": "execute_result"
    }
   ],
   "source": [
    "s[1:7:1]"
   ]
  },
  {
   "cell_type": "code",
   "execution_count": 17,
   "id": "a8f1bbaa",
   "metadata": {},
   "outputs": [
    {
     "data": {
      "text/plain": [
       "'nahk lima'"
      ]
     },
     "execution_count": 17,
     "metadata": {},
     "output_type": "execute_result"
    }
   ],
   "source": [
    "s[-1:-10:-1]"
   ]
  },
  {
   "cell_type": "code",
   "execution_count": 18,
   "id": "a59f904a",
   "metadata": {},
   "outputs": [
    {
     "data": {
      "text/plain": [
       "'my name is muzamil khan'"
      ]
     },
     "execution_count": 18,
     "metadata": {},
     "output_type": "execute_result"
    }
   ],
   "source": [
    "s[::1]"
   ]
  },
  {
   "cell_type": "code",
   "execution_count": 19,
   "id": "87f90fa7",
   "metadata": {},
   "outputs": [
    {
     "data": {
      "text/plain": [
       "'nahk limazum si eman ym'"
      ]
     },
     "execution_count": 19,
     "metadata": {},
     "output_type": "execute_result"
    }
   ],
   "source": [
    "s[::-1]"
   ]
  },
  {
   "cell_type": "code",
   "execution_count": 22,
   "id": "85f772b5",
   "metadata": {},
   "outputs": [
    {
     "name": "stdout",
     "output_type": "stream",
     "text": [
      "my name is muzamil khan"
     ]
    }
   ],
   "source": [
    " for i in s:\n",
    "        print(i,end='')"
   ]
  },
  {
   "cell_type": "code",
   "execution_count": 23,
   "id": "9bd1fe4a",
   "metadata": {},
   "outputs": [
    {
     "name": "stdout",
     "output_type": "stream",
     "text": [
      "m\n",
      "y\n",
      " \n",
      "n\n",
      "a\n",
      "m\n",
      "e\n",
      " \n",
      "i\n",
      "s\n",
      " \n",
      "m\n",
      "u\n",
      "z\n",
      "a\n",
      "m\n",
      "i\n",
      "l\n",
      " \n",
      "k\n",
      "h\n",
      "a\n",
      "n\n"
     ]
    }
   ],
   "source": [
    "for i in s:\n",
    "    print(i)"
   ]
  },
  {
   "cell_type": "code",
   "execution_count": 24,
   "id": "6b7e6228",
   "metadata": {},
   "outputs": [
    {
     "data": {
      "text/plain": [
       "'my name is muzamil khan'"
      ]
     },
     "execution_count": 24,
     "metadata": {},
     "output_type": "execute_result"
    }
   ],
   "source": [
    "  s"
   ]
  },
  {
   "cell_type": "code",
   "execution_count": 26,
   "id": "a3da8fc4",
   "metadata": {},
   "outputs": [
    {
     "data": {
      "text/plain": [
       "('m', 'y')"
      ]
     },
     "execution_count": 26,
     "metadata": {},
     "output_type": "execute_result"
    }
   ],
   "source": [
    "s[0],s[1]"
   ]
  },
  {
   "cell_type": "code",
   "execution_count": 27,
   "id": "826cce46",
   "metadata": {},
   "outputs": [
    {
     "ename": "TypeError",
     "evalue": "'str' object does not support item assignment",
     "output_type": "error",
     "traceback": [
      "\u001b[1;31m---------------------------------------------------------------------------\u001b[0m",
      "\u001b[1;31mTypeError\u001b[0m                                 Traceback (most recent call last)",
      "\u001b[1;32m<ipython-input-27-f8ba73ee2323>\u001b[0m in \u001b[0;36m<module>\u001b[1;34m\u001b[0m\n\u001b[1;32m----> 1\u001b[1;33m \u001b[0ms\u001b[0m\u001b[1;33m[\u001b[0m\u001b[1;36m0\u001b[0m\u001b[1;33m]\u001b[0m\u001b[1;33m,\u001b[0m\u001b[0ms\u001b[0m\u001b[1;33m[\u001b[0m\u001b[1;36m1\u001b[0m\u001b[1;33m]\u001b[0m\u001b[1;33m=\u001b[0m \u001b[1;34m\"Th\"\u001b[0m\u001b[1;33m,\u001b[0m\u001b[1;34m\"is\"\u001b[0m\u001b[1;33m\u001b[0m\u001b[1;33m\u001b[0m\u001b[0m\n\u001b[0m",
      "\u001b[1;31mTypeError\u001b[0m: 'str' object does not support item assignment"
     ]
    }
   ],
   "source": [
    "s[0],s[1]= \"Th\",\"is\""
   ]
  },
  {
   "cell_type": "code",
   "execution_count": 28,
   "id": "d73bceaa",
   "metadata": {},
   "outputs": [],
   "source": [
    "l=[\"MY NAME IS MUZAMIL\",3207480604,3.14]"
   ]
  },
  {
   "cell_type": "code",
   "execution_count": 29,
   "id": "3fd518f6",
   "metadata": {},
   "outputs": [
    {
     "data": {
      "text/plain": [
       "['MY NAME IS MUZAMIL', 3207480604, 3.14]"
      ]
     },
     "execution_count": 29,
     "metadata": {},
     "output_type": "execute_result"
    }
   ],
   "source": [
    "l"
   ]
  },
  {
   "cell_type": "code",
   "execution_count": 30,
   "id": "3ab42f7e",
   "metadata": {},
   "outputs": [
    {
     "data": {
      "text/plain": [
       "'MY NAME IS MUZAMIL'"
      ]
     },
     "execution_count": 30,
     "metadata": {},
     "output_type": "execute_result"
    }
   ],
   "source": [
    "l[0]"
   ]
  },
  {
   "cell_type": "code",
   "execution_count": 31,
   "id": "42f4426c",
   "metadata": {},
   "outputs": [],
   "source": [
    "l[0]=\"Hello This Is Muzamil\""
   ]
  },
  {
   "cell_type": "code",
   "execution_count": 32,
   "id": "ebb571f2",
   "metadata": {},
   "outputs": [
    {
     "data": {
      "text/plain": [
       "['Hello This Is Muzamil', 3207480604, 3.14]"
      ]
     },
     "execution_count": 32,
     "metadata": {},
     "output_type": "execute_result"
    }
   ],
   "source": [
    "l"
   ]
  },
  {
   "cell_type": "markdown",
   "id": "62083580",
   "metadata": {},
   "source": [
    "in the string to replace the one character to another character it is not allow me \n",
    "Now what is the difference and what is the name of this particular object so that is something called a muteablility and there is something called a immuteablility\n",
    "In case of the string, te string is a immuteable object \n",
    "The string object does not support item assignment\n",
    " AND \n",
    " the List is a muteable object item object are allow to change one chatecter to another character"
   ]
  },
  {
   "cell_type": "code",
   "execution_count": 33,
   "id": "e033a524",
   "metadata": {},
   "outputs": [
    {
     "data": {
      "text/plain": [
       "'muzamilkhan'"
      ]
     },
     "execution_count": 33,
     "metadata": {},
     "output_type": "execute_result"
    }
   ],
   "source": [
    "\"muzamil\"+\"khan\""
   ]
  },
  {
   "cell_type": "code",
   "execution_count": 34,
   "id": "04054c27",
   "metadata": {},
   "outputs": [
    {
     "ename": "TypeError",
     "evalue": "can only concatenate str (not \"int\") to str",
     "output_type": "error",
     "traceback": [
      "\u001b[1;31m---------------------------------------------------------------------------\u001b[0m",
      "\u001b[1;31mTypeError\u001b[0m                                 Traceback (most recent call last)",
      "\u001b[1;32m<ipython-input-34-6c4162197974>\u001b[0m in \u001b[0;36m<module>\u001b[1;34m\u001b[0m\n\u001b[1;32m----> 1\u001b[1;33m \u001b[1;34m\"muzamil\"\u001b[0m\u001b[1;33m+\u001b[0m\u001b[1;36m9\u001b[0m\u001b[1;33m\u001b[0m\u001b[1;33m\u001b[0m\u001b[0m\n\u001b[0m",
      "\u001b[1;31mTypeError\u001b[0m: can only concatenate str (not \"int\") to str"
     ]
    }
   ],
   "source": [
    "\"muzamil\"+9"
   ]
  },
  {
   "cell_type": "code",
   "execution_count": 38,
   "id": "654d63ab",
   "metadata": {},
   "outputs": [
    {
     "data": {
      "text/plain": [
       "'muzamil9'"
      ]
     },
     "execution_count": 38,
     "metadata": {},
     "output_type": "execute_result"
    }
   ],
   "source": [
    "\"muzamil\" + str(9)"
   ]
  },
  {
   "cell_type": "code",
   "execution_count": 39,
   "id": "cd594bb4",
   "metadata": {},
   "outputs": [
    {
     "ename": "TypeError",
     "evalue": "can only concatenate str (not \"list\") to str",
     "output_type": "error",
     "traceback": [
      "\u001b[1;31m---------------------------------------------------------------------------\u001b[0m",
      "\u001b[1;31mTypeError\u001b[0m                                 Traceback (most recent call last)",
      "\u001b[1;32m<ipython-input-39-4efc765a8bf0>\u001b[0m in \u001b[0;36m<module>\u001b[1;34m\u001b[0m\n\u001b[1;32m----> 1\u001b[1;33m \u001b[1;34m\"muzamil\"\u001b[0m \u001b[1;33m+\u001b[0m \u001b[1;33m[\u001b[0m\u001b[1;34m\"hello\"\u001b[0m\u001b[1;33m,\u001b[0m\u001b[1;36m1\u001b[0m\u001b[1;33m,\u001b[0m\u001b[1;36m2\u001b[0m\u001b[1;33m,\u001b[0m\u001b[1;36m3\u001b[0m\u001b[1;33m,\u001b[0m\u001b[1;36m4\u001b[0m\u001b[1;33m,\u001b[0m\u001b[1;36m5\u001b[0m\u001b[1;33m]\u001b[0m\u001b[1;33m\u001b[0m\u001b[1;33m\u001b[0m\u001b[0m\n\u001b[0m",
      "\u001b[1;31mTypeError\u001b[0m: can only concatenate str (not \"list\") to str"
     ]
    }
   ],
   "source": [
    "\"muzamil\" + [\"hello\",1,2,3,4,5]"
   ]
  },
  {
   "cell_type": "code",
   "execution_count": 41,
   "id": "34d2e93a",
   "metadata": {},
   "outputs": [
    {
     "data": {
      "text/plain": [
       "'MuzamilMuzamilMuzamilMuzamilMuzamilMuzamilMuzamilMuzamilMuzamil'"
      ]
     },
     "execution_count": 41,
     "metadata": {},
     "output_type": "execute_result"
    }
   ],
   "source": [
    "\"Muzamil\" *9"
   ]
  },
  {
   "cell_type": "markdown",
   "id": "c38fe5be",
   "metadata": {},
   "source": [
    "# Inbuilt functions"
   ]
  },
  {
   "cell_type": "code",
   "execution_count": 42,
   "id": "178576db",
   "metadata": {},
   "outputs": [],
   "source": [
    "s =\"Hello world\""
   ]
  },
  {
   "cell_type": "code",
   "execution_count": 43,
   "id": "58d65280",
   "metadata": {},
   "outputs": [
    {
     "data": {
      "text/plain": [
       "'Hello world'"
      ]
     },
     "execution_count": 43,
     "metadata": {},
     "output_type": "execute_result"
    }
   ],
   "source": [
    "s"
   ]
  },
  {
   "cell_type": "code",
   "execution_count": 44,
   "id": "0be567b5",
   "metadata": {},
   "outputs": [
    {
     "data": {
      "text/plain": [
       "-1"
      ]
     },
     "execution_count": 44,
     "metadata": {},
     "output_type": "execute_result"
    }
   ],
   "source": [
    "s.find(\"m\")"
   ]
  },
  {
   "cell_type": "code",
   "execution_count": 45,
   "id": "026e71d8",
   "metadata": {},
   "outputs": [
    {
     "data": {
      "text/plain": [
       "0"
      ]
     },
     "execution_count": 45,
     "metadata": {},
     "output_type": "execute_result"
    }
   ],
   "source": [
    "s.find(\"Hello\")"
   ]
  },
  {
   "cell_type": "code",
   "execution_count": 46,
   "id": "eb62a9b3",
   "metadata": {},
   "outputs": [],
   "source": [
    "s = \"my name is\""
   ]
  },
  {
   "cell_type": "code",
   "execution_count": 47,
   "id": "6f3d0771",
   "metadata": {},
   "outputs": [
    {
     "data": {
      "text/plain": [
       "'my name is'"
      ]
     },
     "execution_count": 47,
     "metadata": {},
     "output_type": "execute_result"
    }
   ],
   "source": [
    "s"
   ]
  },
  {
   "cell_type": "code",
   "execution_count": 48,
   "id": "d9fa38b3",
   "metadata": {},
   "outputs": [
    {
     "data": {
      "text/plain": [
       "3"
      ]
     },
     "execution_count": 48,
     "metadata": {},
     "output_type": "execute_result"
    }
   ],
   "source": [
    "s.find(\"name\")"
   ]
  },
  {
   "cell_type": "code",
   "execution_count": 49,
   "id": "b35a2d02",
   "metadata": {},
   "outputs": [
    {
     "name": "stdout",
     "output_type": "stream",
     "text": [
      "3\n",
      "4\n",
      "5\n",
      "6\n"
     ]
    }
   ],
   "source": [
    "b = s.find(\"name\")\n",
    "for i in range(len(\"name\")):\n",
    "    print(b+i)"
   ]
  },
  {
   "cell_type": "code",
   "execution_count": 50,
   "id": "2ad6a9ef",
   "metadata": {},
   "outputs": [
    {
     "data": {
      "text/plain": [
       "'my name is'"
      ]
     },
     "execution_count": 50,
     "metadata": {},
     "output_type": "execute_result"
    }
   ],
   "source": [
    "s"
   ]
  },
  {
   "cell_type": "code",
   "execution_count": 51,
   "id": "48c1d525",
   "metadata": {},
   "outputs": [
    {
     "data": {
      "text/plain": [
       "2"
      ]
     },
     "execution_count": 51,
     "metadata": {},
     "output_type": "execute_result"
    }
   ],
   "source": [
    "s.count(\"m\")"
   ]
  },
  {
   "cell_type": "code",
   "execution_count": 52,
   "id": "0d83965d",
   "metadata": {},
   "outputs": [
    {
     "data": {
      "text/plain": [
       "1"
      ]
     },
     "execution_count": 52,
     "metadata": {},
     "output_type": "execute_result"
    }
   ],
   "source": [
    "s.count(\"name\")"
   ]
  },
  {
   "cell_type": "code",
   "execution_count": 53,
   "id": "c0b5bdab",
   "metadata": {},
   "outputs": [
    {
     "data": {
      "text/plain": [
       "'my name is'"
      ]
     },
     "execution_count": 53,
     "metadata": {},
     "output_type": "execute_result"
    }
   ],
   "source": [
    "s"
   ]
  },
  {
   "cell_type": "code",
   "execution_count": 54,
   "id": "75b4a93c",
   "metadata": {},
   "outputs": [
    {
     "data": {
      "text/plain": [
       "['my', 'name', 'is']"
      ]
     },
     "execution_count": 54,
     "metadata": {},
     "output_type": "execute_result"
    }
   ],
   "source": [
    "s.split()"
   ]
  },
  {
   "cell_type": "code",
   "execution_count": 55,
   "id": "a6c200f5",
   "metadata": {},
   "outputs": [],
   "source": [
    "s = \"Hello! This is my CV, i think i am able to for your company job\""
   ]
  },
  {
   "cell_type": "code",
   "execution_count": 56,
   "id": "7abed91b",
   "metadata": {},
   "outputs": [
    {
     "data": {
      "text/plain": [
       "'Hello! This is my CV, i think i am able to for your company job'"
      ]
     },
     "execution_count": 56,
     "metadata": {},
     "output_type": "execute_result"
    }
   ],
   "source": [
    "s"
   ]
  },
  {
   "cell_type": "code",
   "execution_count": 58,
   "id": "33b50748",
   "metadata": {},
   "outputs": [
    {
     "data": {
      "text/plain": [
       "1"
      ]
     },
     "execution_count": 58,
     "metadata": {},
     "output_type": "execute_result"
    }
   ],
   "source": [
    "s.count(\"This\")"
   ]
  },
  {
   "cell_type": "code",
   "execution_count": 59,
   "id": "f517ca77",
   "metadata": {},
   "outputs": [
    {
     "data": {
      "text/plain": [
       "['Hello!',\n",
       " 'This',\n",
       " 'is',\n",
       " 'my',\n",
       " 'CV,',\n",
       " 'i',\n",
       " 'think',\n",
       " 'i',\n",
       " 'am',\n",
       " 'able',\n",
       " 'to',\n",
       " 'for',\n",
       " 'your',\n",
       " 'company',\n",
       " 'job']"
      ]
     },
     "execution_count": 59,
     "metadata": {},
     "output_type": "execute_result"
    }
   ],
   "source": [
    "s.split()"
   ]
  },
  {
   "cell_type": "code",
   "execution_count": 60,
   "id": "50136665",
   "metadata": {},
   "outputs": [
    {
     "data": {
      "text/plain": [
       "['Hello! This is my CV', ' i think i am able to for your company job']"
      ]
     },
     "execution_count": 60,
     "metadata": {},
     "output_type": "execute_result"
    }
   ],
   "source": [
    "s.split(',')"
   ]
  },
  {
   "cell_type": "code",
   "execution_count": 61,
   "id": "14140a06",
   "metadata": {},
   "outputs": [
    {
     "data": {
      "text/plain": [
       "['Hello! Th',\n",
       " 's ',\n",
       " 's my CV, ',\n",
       " ' th',\n",
       " 'nk ',\n",
       " ' am able to for your company job']"
      ]
     },
     "execution_count": 61,
     "metadata": {},
     "output_type": "execute_result"
    }
   ],
   "source": [
    "s.split('i')"
   ]
  },
  {
   "cell_type": "code",
   "execution_count": 62,
   "id": "815d90f4",
   "metadata": {},
   "outputs": [
    {
     "data": {
      "text/plain": [
       "list"
      ]
     },
     "execution_count": 62,
     "metadata": {},
     "output_type": "execute_result"
    }
   ],
   "source": [
    "type(s.split())"
   ]
  },
  {
   "cell_type": "code",
   "execution_count": 63,
   "id": "5cea66dc",
   "metadata": {},
   "outputs": [
    {
     "data": {
      "text/plain": [
       "'HELLO! THIS IS MY CV, I THINK I AM ABLE TO FOR YOUR COMPANY JOB'"
      ]
     },
     "execution_count": 63,
     "metadata": {},
     "output_type": "execute_result"
    }
   ],
   "source": [
    "s.upper()"
   ]
  },
  {
   "cell_type": "code",
   "execution_count": 64,
   "id": "cc8889a8",
   "metadata": {},
   "outputs": [
    {
     "data": {
      "text/plain": [
       "'hello! this is my cv, i think i am able to for your company job'"
      ]
     },
     "execution_count": 64,
     "metadata": {},
     "output_type": "execute_result"
    }
   ],
   "source": [
    "s.lower()"
   ]
  },
  {
   "cell_type": "code",
   "execution_count": 65,
   "id": "f8420cd7",
   "metadata": {},
   "outputs": [
    {
     "data": {
      "text/plain": [
       "'hELLO! tHIS IS MY cv, I THINK I AM ABLE TO FOR YOUR COMPANY JOB'"
      ]
     },
     "execution_count": 65,
     "metadata": {},
     "output_type": "execute_result"
    }
   ],
   "source": [
    "s.swapcase()"
   ]
  },
  {
   "cell_type": "code",
   "execution_count": 67,
   "id": "1cbff5f1",
   "metadata": {},
   "outputs": [
    {
     "data": {
      "text/plain": [
       "'H e l l o !   T h i s   i s   m y   C V ,   i   t h i n k   i   a m   a b l e   t o   f o r   y o u r   c o m p a n y   j o b'"
      ]
     },
     "execution_count": 67,
     "metadata": {},
     "output_type": "execute_result"
    }
   ],
   "source": [
    "\" \".join(s)"
   ]
  },
  {
   "cell_type": "code",
   "execution_count": 68,
   "id": "e9819daa",
   "metadata": {},
   "outputs": [
    {
     "data": {
      "text/plain": [
       "<reversed at 0x2856ecfe940>"
      ]
     },
     "execution_count": 68,
     "metadata": {},
     "output_type": "execute_result"
    }
   ],
   "source": [
    "reversed(s)"
   ]
  },
  {
   "cell_type": "code",
   "execution_count": 69,
   "id": "1be4a6c2",
   "metadata": {},
   "outputs": [
    {
     "data": {
      "text/plain": [
       "['b',\n",
       " 'o',\n",
       " 'j',\n",
       " ' ',\n",
       " 'y',\n",
       " 'n',\n",
       " 'a',\n",
       " 'p',\n",
       " 'm',\n",
       " 'o',\n",
       " 'c',\n",
       " ' ',\n",
       " 'r',\n",
       " 'u',\n",
       " 'o',\n",
       " 'y',\n",
       " ' ',\n",
       " 'r',\n",
       " 'o',\n",
       " 'f',\n",
       " ' ',\n",
       " 'o',\n",
       " 't',\n",
       " ' ',\n",
       " 'e',\n",
       " 'l',\n",
       " 'b',\n",
       " 'a',\n",
       " ' ',\n",
       " 'm',\n",
       " 'a',\n",
       " ' ',\n",
       " 'i',\n",
       " ' ',\n",
       " 'k',\n",
       " 'n',\n",
       " 'i',\n",
       " 'h',\n",
       " 't',\n",
       " ' ',\n",
       " 'i',\n",
       " ' ',\n",
       " ',',\n",
       " 'V',\n",
       " 'C',\n",
       " ' ',\n",
       " 'y',\n",
       " 'm',\n",
       " ' ',\n",
       " 's',\n",
       " 'i',\n",
       " ' ',\n",
       " 's',\n",
       " 'i',\n",
       " 'h',\n",
       " 'T',\n",
       " ' ',\n",
       " '!',\n",
       " 'o',\n",
       " 'l',\n",
       " 'l',\n",
       " 'e',\n",
       " 'H']"
      ]
     },
     "execution_count": 69,
     "metadata": {},
     "output_type": "execute_result"
    }
   ],
   "source": [
    "list(reversed(s))"
   ]
  },
  {
   "cell_type": "code",
   "execution_count": 70,
   "id": "023235ec",
   "metadata": {},
   "outputs": [
    {
     "name": "stdout",
     "output_type": "stream",
     "text": [
      "b\n",
      "o\n",
      "j\n",
      " \n",
      "y\n",
      "n\n",
      "a\n",
      "p\n",
      "m\n",
      "o\n",
      "c\n",
      " \n",
      "r\n",
      "u\n",
      "o\n",
      "y\n",
      " \n",
      "r\n",
      "o\n",
      "f\n",
      " \n",
      "o\n",
      "t\n",
      " \n",
      "e\n",
      "l\n",
      "b\n",
      "a\n",
      " \n",
      "m\n",
      "a\n",
      " \n",
      "i\n",
      " \n",
      "k\n",
      "n\n",
      "i\n",
      "h\n",
      "t\n",
      " \n",
      "i\n",
      " \n",
      ",\n",
      "V\n",
      "C\n",
      " \n",
      "y\n",
      "m\n",
      " \n",
      "s\n",
      "i\n",
      " \n",
      "s\n",
      "i\n",
      "h\n",
      "T\n",
      " \n",
      "!\n",
      "o\n",
      "l\n",
      "l\n",
      "e\n",
      "H\n"
     ]
    }
   ],
   "source": [
    "for i in reversed(s):\n",
    "    print(i)"
   ]
  },
  {
   "cell_type": "code",
   "execution_count": 71,
   "id": "2084eb66",
   "metadata": {},
   "outputs": [],
   "source": [
    "s = \"    muzamil    \""
   ]
  },
  {
   "cell_type": "code",
   "execution_count": 72,
   "id": "e2821744",
   "metadata": {},
   "outputs": [
    {
     "data": {
      "text/plain": [
       "'    muzamil    '"
      ]
     },
     "execution_count": 72,
     "metadata": {},
     "output_type": "execute_result"
    }
   ],
   "source": [
    "s"
   ]
  },
  {
   "cell_type": "markdown",
   "id": "f4f4ebbd",
   "metadata": {},
   "source": [
    "# BOTH SIDE STRIP"
   ]
  },
  {
   "cell_type": "code",
   "execution_count": 73,
   "id": "d89a5a2e",
   "metadata": {},
   "outputs": [
    {
     "data": {
      "text/plain": [
       "'muzamil'"
      ]
     },
     "execution_count": 73,
     "metadata": {},
     "output_type": "execute_result"
    }
   ],
   "source": [
    "s.strip()"
   ]
  },
  {
   "cell_type": "code",
   "execution_count": 74,
   "id": "51d2a4df",
   "metadata": {},
   "outputs": [
    {
     "data": {
      "text/plain": [
       "'    muzamil    '"
      ]
     },
     "execution_count": 74,
     "metadata": {},
     "output_type": "execute_result"
    }
   ],
   "source": [
    "s"
   ]
  },
  {
   "cell_type": "markdown",
   "id": "49f3eeb5",
   "metadata": {},
   "source": [
    "# LEFT SIDE STRIP"
   ]
  },
  {
   "cell_type": "code",
   "execution_count": 75,
   "id": "e1196fd6",
   "metadata": {},
   "outputs": [
    {
     "data": {
      "text/plain": [
       "'muzamil    '"
      ]
     },
     "execution_count": 75,
     "metadata": {},
     "output_type": "execute_result"
    }
   ],
   "source": [
    "s.lstrip()"
   ]
  },
  {
   "cell_type": "markdown",
   "id": "130675b5",
   "metadata": {},
   "source": [
    "# RIGHT SIDE STRIP"
   ]
  },
  {
   "cell_type": "code",
   "execution_count": 78,
   "id": "7a9f6703",
   "metadata": {},
   "outputs": [
    {
     "data": {
      "text/plain": [
       "'    muzamil'"
      ]
     },
     "execution_count": 78,
     "metadata": {},
     "output_type": "execute_result"
    }
   ],
   "source": [
    "s.rstrip()"
   ]
  },
  {
   "cell_type": "code",
   "execution_count": 79,
   "id": "c915fb38",
   "metadata": {},
   "outputs": [
    {
     "data": {
      "text/plain": [
       "'    muzamil    '"
      ]
     },
     "execution_count": 79,
     "metadata": {},
     "output_type": "execute_result"
    }
   ],
   "source": [
    "s"
   ]
  },
  {
   "cell_type": "code",
   "execution_count": 80,
   "id": "6467a439",
   "metadata": {},
   "outputs": [],
   "source": [
    "s =\"my naem is muzamil \""
   ]
  },
  {
   "cell_type": "code",
   "execution_count": 81,
   "id": "eb296b4b",
   "metadata": {},
   "outputs": [
    {
     "data": {
      "text/plain": [
       "'my naem is muzamil '"
      ]
     },
     "execution_count": 81,
     "metadata": {},
     "output_type": "execute_result"
    }
   ],
   "source": [
    "s"
   ]
  },
  {
   "cell_type": "code",
   "execution_count": 82,
   "id": "d50e89a6",
   "metadata": {},
   "outputs": [
    {
     "data": {
      "text/plain": [
       "'my name is muzamil '"
      ]
     },
     "execution_count": 82,
     "metadata": {},
     "output_type": "execute_result"
    }
   ],
   "source": [
    "s.replace(\"naem\" , 'name')"
   ]
  },
  {
   "cell_type": "code",
   "execution_count": 83,
   "id": "72fc69a1",
   "metadata": {},
   "outputs": [
    {
     "data": {
      "text/plain": [
       "'my naem is muzamil '"
      ]
     },
     "execution_count": 83,
     "metadata": {},
     "output_type": "execute_result"
    }
   ],
   "source": [
    "s"
   ]
  },
  {
   "cell_type": "code",
   "execution_count": 84,
   "id": "0c4bd654",
   "metadata": {},
   "outputs": [],
   "source": [
    "s = s.replace(\"naem\" , 'name')"
   ]
  },
  {
   "cell_type": "code",
   "execution_count": 85,
   "id": "4f624efd",
   "metadata": {},
   "outputs": [
    {
     "data": {
      "text/plain": [
       "'my name is muzamil '"
      ]
     },
     "execution_count": 85,
     "metadata": {},
     "output_type": "execute_result"
    }
   ],
   "source": [
    "s"
   ]
  },
  {
   "cell_type": "code",
   "execution_count": 86,
   "id": "9cb715e0",
   "metadata": {},
   "outputs": [],
   "source": [
    "s = \"khan\""
   ]
  },
  {
   "cell_type": "code",
   "execution_count": 87,
   "id": "8ac99f63",
   "metadata": {},
   "outputs": [
    {
     "data": {
      "text/plain": [
       "'khan'"
      ]
     },
     "execution_count": 87,
     "metadata": {},
     "output_type": "execute_result"
    }
   ],
   "source": [
    "s"
   ]
  },
  {
   "cell_type": "code",
   "execution_count": 88,
   "id": "f5a56ca9",
   "metadata": {},
   "outputs": [
    {
     "data": {
      "text/plain": [
       "'MMMMMMMMMMMMMkhanMMMMMMMMMMMMM'"
      ]
     },
     "execution_count": 88,
     "metadata": {},
     "output_type": "execute_result"
    }
   ],
   "source": [
    "s.center(30 , 'M')"
   ]
  },
  {
   "cell_type": "code",
   "execution_count": 89,
   "id": "4a1addc4",
   "metadata": {},
   "outputs": [
    {
     "data": {
      "text/plain": [
       "'#############khan#############'"
      ]
     },
     "execution_count": 89,
     "metadata": {},
     "output_type": "execute_result"
    }
   ],
   "source": [
    "s.center(30 , '#')"
   ]
  },
  {
   "cell_type": "code",
   "execution_count": 90,
   "id": "2e458b46",
   "metadata": {},
   "outputs": [
    {
     "data": {
      "text/plain": [
       "'@@@@@@@@@@@@@khan@@@@@@@@@@@@@'"
      ]
     },
     "execution_count": 90,
     "metadata": {},
     "output_type": "execute_result"
    }
   ],
   "source": [
    "s.center(30 , '@')"
   ]
  },
  {
   "cell_type": "code",
   "execution_count": 91,
   "id": "7ebac94e",
   "metadata": {},
   "outputs": [],
   "source": [
    "s = \"muzamil\\tkhan\""
   ]
  },
  {
   "cell_type": "code",
   "execution_count": 92,
   "id": "a73d65a9",
   "metadata": {},
   "outputs": [
    {
     "data": {
      "text/plain": [
       "'muzamil\\tkhan'"
      ]
     },
     "execution_count": 92,
     "metadata": {},
     "output_type": "execute_result"
    }
   ],
   "source": [
    "s"
   ]
  },
  {
   "cell_type": "code",
   "execution_count": 93,
   "id": "fd9ae9ff",
   "metadata": {},
   "outputs": [
    {
     "data": {
      "text/plain": [
       "'muzamil khan'"
      ]
     },
     "execution_count": 93,
     "metadata": {},
     "output_type": "execute_result"
    }
   ],
   "source": [
    "s.expandtabs()"
   ]
  },
  {
   "cell_type": "code",
   "execution_count": 96,
   "id": "02951451",
   "metadata": {},
   "outputs": [],
   "source": [
    "s = \"we are all a part of Full Stack  \""
   ]
  },
  {
   "cell_type": "code",
   "execution_count": 97,
   "id": "3fd90b1e",
   "metadata": {},
   "outputs": [
    {
     "data": {
      "text/plain": [
       "'we are all a part of Full Stack  '"
      ]
     },
     "execution_count": 97,
     "metadata": {},
     "output_type": "execute_result"
    }
   ],
   "source": [
    "s"
   ]
  },
  {
   "cell_type": "code",
   "execution_count": 98,
   "id": "d8e14d54",
   "metadata": {},
   "outputs": [
    {
     "data": {
      "text/plain": [
       "'we are all a part of full stack  '"
      ]
     },
     "execution_count": 98,
     "metadata": {},
     "output_type": "execute_result"
    }
   ],
   "source": [
    "s.lower()"
   ]
  },
  {
   "cell_type": "code",
   "execution_count": 99,
   "id": "572da99c",
   "metadata": {},
   "outputs": [
    {
     "data": {
      "text/plain": [
       "5"
      ]
     },
     "execution_count": 99,
     "metadata": {},
     "output_type": "execute_result"
    }
   ],
   "source": [
    "s.count(\"a\")"
   ]
  },
  {
   "cell_type": "code",
   "execution_count": 100,
   "id": "d5959a6a",
   "metadata": {},
   "outputs": [
    {
     "data": {
      "text/plain": [
       "'we iNeuronre iNeuronll iNeuron piNeuronrt of Full StiNeuronck  '"
      ]
     },
     "execution_count": 100,
     "metadata": {},
     "output_type": "execute_result"
    }
   ],
   "source": [
    "s.replace(\"a\" ,'iNeuron')"
   ]
  },
  {
   "cell_type": "code",
   "execution_count": 101,
   "id": "30b9db3a",
   "metadata": {},
   "outputs": [
    {
     "data": {
      "text/plain": [
       "'we are all a part of Full Stack  '"
      ]
     },
     "execution_count": 101,
     "metadata": {},
     "output_type": "execute_result"
    }
   ],
   "source": [
    "s"
   ]
  },
  {
   "cell_type": "code",
   "execution_count": 104,
   "id": "49bd378a",
   "metadata": {},
   "outputs": [
    {
     "data": {
      "text/plain": [
       "['we', 'are', 'all', 'a', 'part', 'of', 'Full', 'Stack']"
      ]
     },
     "execution_count": 104,
     "metadata": {},
     "output_type": "execute_result"
    }
   ],
   "source": [
    "s.split()"
   ]
  },
  {
   "cell_type": "code",
   "execution_count": 105,
   "id": "921a9f6e",
   "metadata": {},
   "outputs": [
    {
     "data": {
      "text/plain": [
       "'we are all a part of Full Stack  '"
      ]
     },
     "execution_count": 105,
     "metadata": {},
     "output_type": "execute_result"
    }
   ],
   "source": [
    "s"
   ]
  },
  {
   "cell_type": "code",
   "execution_count": 106,
   "id": "8e0ebbe5",
   "metadata": {},
   "outputs": [
    {
     "data": {
      "text/plain": [
       "-1"
      ]
     },
     "execution_count": 106,
     "metadata": {},
     "output_type": "execute_result"
    }
   ],
   "source": [
    "s.find(a)"
   ]
  },
  {
   "cell_type": "code",
   "execution_count": 107,
   "id": "391fa8f7",
   "metadata": {},
   "outputs": [
    {
     "data": {
      "text/plain": [
       "3"
      ]
     },
     "execution_count": 107,
     "metadata": {},
     "output_type": "execute_result"
    }
   ],
   "source": [
    "s.find(\"a\")"
   ]
  },
  {
   "cell_type": "code",
   "execution_count": 113,
   "id": "285a0d1e",
   "metadata": {},
   "outputs": [
    {
     "data": {
      "text/plain": [
       "'we are all a part of Full Stack  '"
      ]
     },
     "execution_count": 113,
     "metadata": {},
     "output_type": "execute_result"
    }
   ],
   "source": [
    "s"
   ]
  },
  {
   "cell_type": "code",
   "execution_count": 120,
   "id": "9b092a9c",
   "metadata": {},
   "outputs": [
    {
     "name": "stdout",
     "output_type": "stream",
     "text": [
      "3\n",
      "7\n",
      "11\n",
      "14\n",
      "28\n"
     ]
    }
   ],
   "source": [
    "for i in range(len(s)):\n",
    "    if(s[i] == \"a\"):\n",
    "        print(i)"
   ]
  },
  {
   "cell_type": "code",
   "execution_count": 118,
   "id": "c865dade",
   "metadata": {},
   "outputs": [
    {
     "data": {
      "text/plain": [
       "'we are all a part of Full Stack  '"
      ]
     },
     "execution_count": 118,
     "metadata": {},
     "output_type": "execute_result"
    }
   ],
   "source": [
    "s"
   ]
  },
  {
   "cell_type": "code",
   "execution_count": 138,
   "id": "be0b62bf",
   "metadata": {},
   "outputs": [
    {
     "name": "stdout",
     "output_type": "stream",
     "text": [
      "we are all part of full stack\n",
      "4\n",
      "\r\n",
      "3\n",
      "7\n",
      "12\n",
      "26\n",
      "we iNeuronre iNeuronll piNeuronrt of full stiNeuronck\n",
      "['we', 'are', 'all', 'part', 'of', 'full', 'stack']\n"
     ]
    }
   ],
   "source": [
    "s =\"we are all part of full stack\"\n",
    "a = s.lower()\n",
    "b = s.count(\"a\")\n",
    "print(a)\n",
    "print(b)\n",
    "print(\"\\r\")\n",
    "for i in range(len(s)):\n",
    "    if(s[i] == 'a'):\n",
    "        print(i)\n",
    "c = s.replace(\"a\" , 'iNeuron')\n",
    "print(c)\n",
    "d = s.split()\n",
    "print(d)"
   ]
  },
  {
   "cell_type": "code",
   "execution_count": 139,
   "id": "b3098dc6",
   "metadata": {},
   "outputs": [],
   "source": [
    " s = \"muzamil\""
   ]
  },
  {
   "cell_type": "code",
   "execution_count": 140,
   "id": "be209abf",
   "metadata": {},
   "outputs": [
    {
     "data": {
      "text/plain": [
       "'muzamil'"
      ]
     },
     "execution_count": 140,
     "metadata": {},
     "output_type": "execute_result"
    }
   ],
   "source": [
    "s"
   ]
  },
  {
   "cell_type": "code",
   "execution_count": 141,
   "id": "0d46aea6",
   "metadata": {},
   "outputs": [
    {
     "data": {
      "text/plain": [
       "False"
      ]
     },
     "execution_count": 141,
     "metadata": {},
     "output_type": "execute_result"
    }
   ],
   "source": [
    "s.isupper()"
   ]
  },
  {
   "cell_type": "code",
   "execution_count": 142,
   "id": "9eab77ec",
   "metadata": {},
   "outputs": [
    {
     "data": {
      "text/plain": [
       "' MUZAMIL'"
      ]
     },
     "execution_count": 142,
     "metadata": {},
     "output_type": "execute_result"
    }
   ],
   "source": [
    "s = \" MUZAMIL\"\n",
    "s"
   ]
  },
  {
   "cell_type": "code",
   "execution_count": 143,
   "id": "d9062ea6",
   "metadata": {},
   "outputs": [
    {
     "data": {
      "text/plain": [
       "True"
      ]
     },
     "execution_count": 143,
     "metadata": {},
     "output_type": "execute_result"
    }
   ],
   "source": [
    "s.isupper()"
   ]
  },
  {
   "cell_type": "code",
   "execution_count": 144,
   "id": "7bd7ccc6",
   "metadata": {},
   "outputs": [
    {
     "data": {
      "text/plain": [
       "'muzamil'"
      ]
     },
     "execution_count": 144,
     "metadata": {},
     "output_type": "execute_result"
    }
   ],
   "source": [
    "s = \"muzamil\"\n",
    "s"
   ]
  },
  {
   "cell_type": "code",
   "execution_count": 145,
   "id": "3b493661",
   "metadata": {},
   "outputs": [
    {
     "data": {
      "text/plain": [
       "True"
      ]
     },
     "execution_count": 145,
     "metadata": {},
     "output_type": "execute_result"
    }
   ],
   "source": [
    "s.islower()"
   ]
  },
  {
   "cell_type": "code",
   "execution_count": 146,
   "id": "52663a0d",
   "metadata": {},
   "outputs": [
    {
     "data": {
      "text/plain": [
       "'    '"
      ]
     },
     "execution_count": 146,
     "metadata": {},
     "output_type": "execute_result"
    }
   ],
   "source": [
    "s = \"    \"\n",
    "s"
   ]
  },
  {
   "cell_type": "code",
   "execution_count": 147,
   "id": "a655b7cc",
   "metadata": {},
   "outputs": [
    {
     "data": {
      "text/plain": [
       "True"
      ]
     },
     "execution_count": 147,
     "metadata": {},
     "output_type": "execute_result"
    }
   ],
   "source": [
    "s.isspace()"
   ]
  },
  {
   "cell_type": "code",
   "execution_count": 158,
   "id": "0f16482d",
   "metadata": {},
   "outputs": [
    {
     "data": {
      "text/plain": [
       "'MUZAMIL123457'"
      ]
     },
     "execution_count": 158,
     "metadata": {},
     "output_type": "execute_result"
    }
   ],
   "source": [
    "s = \"MUZAMIL123457\"\n",
    "s"
   ]
  },
  {
   "cell_type": "code",
   "execution_count": 154,
   "id": "0c9b98fd",
   "metadata": {},
   "outputs": [
    {
     "data": {
      "text/plain": [
       "False"
      ]
     },
     "execution_count": 154,
     "metadata": {},
     "output_type": "execute_result"
    }
   ],
   "source": [
    "s.isdigit()"
   ]
  },
  {
   "cell_type": "code",
   "execution_count": 160,
   "id": "d54114a0",
   "metadata": {},
   "outputs": [
    {
     "data": {
      "text/plain": [
       "'1234'"
      ]
     },
     "execution_count": 160,
     "metadata": {},
     "output_type": "execute_result"
    }
   ],
   "source": [
    "s = \"1234\"\n",
    "s"
   ]
  },
  {
   "cell_type": "code",
   "execution_count": 161,
   "id": "69342d89",
   "metadata": {},
   "outputs": [
    {
     "data": {
      "text/plain": [
       "True"
      ]
     },
     "execution_count": 161,
     "metadata": {},
     "output_type": "execute_result"
    }
   ],
   "source": [
    "s.isdigit()"
   ]
  },
  {
   "cell_type": "code",
   "execution_count": 162,
   "id": "5386ec8f",
   "metadata": {},
   "outputs": [
    {
     "data": {
      "text/plain": [
       "False"
      ]
     },
     "execution_count": 162,
     "metadata": {},
     "output_type": "execute_result"
    }
   ],
   "source": [
    "s.endswith(\"1\")"
   ]
  },
  {
   "cell_type": "code",
   "execution_count": 163,
   "id": "c7e93313",
   "metadata": {},
   "outputs": [
    {
     "data": {
      "text/plain": [
       "False"
      ]
     },
     "execution_count": 163,
     "metadata": {},
     "output_type": "execute_result"
    }
   ],
   "source": [
    "s.endswith(\"m\")"
   ]
  },
  {
   "cell_type": "code",
   "execution_count": 167,
   "id": "b28938bd",
   "metadata": {},
   "outputs": [
    {
     "data": {
      "text/plain": [
       "'muzamil'"
      ]
     },
     "execution_count": 167,
     "metadata": {},
     "output_type": "execute_result"
    }
   ],
   "source": [
    "s = \"muzamil\"\n",
    "s"
   ]
  },
  {
   "cell_type": "code",
   "execution_count": 168,
   "id": "19c4852a",
   "metadata": {},
   "outputs": [
    {
     "data": {
      "text/plain": [
       "True"
      ]
     },
     "execution_count": 168,
     "metadata": {},
     "output_type": "execute_result"
    }
   ],
   "source": [
    "s.endswith(\"l\")"
   ]
  },
  {
   "cell_type": "code",
   "execution_count": 170,
   "id": "e18b38b9",
   "metadata": {},
   "outputs": [
    {
     "data": {
      "text/plain": [
       "True"
      ]
     },
     "execution_count": 170,
     "metadata": {},
     "output_type": "execute_result"
    }
   ],
   "source": [
    "s.startswith(\"m\")"
   ]
  },
  {
   "cell_type": "code",
   "execution_count": 171,
   "id": "cd9739e1",
   "metadata": {},
   "outputs": [
    {
     "data": {
      "text/plain": [
       "True"
      ]
     },
     "execution_count": 171,
     "metadata": {},
     "output_type": "execute_result"
    }
   ],
   "source": [
    "s.isalnum()"
   ]
  },
  {
   "cell_type": "code",
   "execution_count": 172,
   "id": "c385c993",
   "metadata": {},
   "outputs": [
    {
     "data": {
      "text/plain": [
       "'muzamil'"
      ]
     },
     "execution_count": 172,
     "metadata": {},
     "output_type": "execute_result"
    }
   ],
   "source": [
    "s"
   ]
  },
  {
   "cell_type": "code",
   "execution_count": 173,
   "id": "e51b5b21",
   "metadata": {},
   "outputs": [
    {
     "data": {
      "text/plain": [
       "True"
      ]
     },
     "execution_count": 173,
     "metadata": {},
     "output_type": "execute_result"
    }
   ],
   "source": [
    "s.isalnum()"
   ]
  },
  {
   "cell_type": "code",
   "execution_count": null,
   "id": "9a79f7d8",
   "metadata": {},
   "outputs": [],
   "source": []
  }
 ],
 "metadata": {
  "kernelspec": {
   "display_name": "Python 3",
   "language": "python",
   "name": "python3"
  },
  "language_info": {
   "codemirror_mode": {
    "name": "ipython",
    "version": 3
   },
   "file_extension": ".py",
   "mimetype": "text/x-python",
   "name": "python",
   "nbconvert_exporter": "python",
   "pygments_lexer": "ipython3",
   "version": "3.8.8"
  }
 },
 "nbformat": 4,
 "nbformat_minor": 5
}
